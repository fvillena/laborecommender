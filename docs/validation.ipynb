{
 "cells": [
  {
   "cell_type": "markdown",
   "metadata": {},
   "source": [
    "# Validation example"
   ]
  },
  {
   "cell_type": "markdown",
   "metadata": {},
   "source": [
    "First we import the data, model and validation modules.\n",
    "\n",
    "The `laborecommender.data` module contains the toolset for data preparation, the `laborecommender.model` module contains the toolset for the modelling itself and the `laborecommender.validation` module contains the toolset for validation, namely scoring functions, cross validation and grid search."
   ]
  },
  {
   "cell_type": "code",
   "execution_count": 12,
   "metadata": {},
   "outputs": [],
   "source": [
    "import sklearn.model_selection\n",
    "import laborecommender.data\n",
    "import laborecommender.model\n",
    "import laborecommender.validation"
   ]
  },
  {
   "cell_type": "markdown",
   "metadata": {},
   "source": [
    "We prepare the dataset using the sample data extracted from MIMIC-III. The dataset must be a list of tuples (or lists), where each nested tuple is a bag of laboratory tests requested at the same time. Then a train-test splitting is performed."
   ]
  },
  {
   "cell_type": "code",
   "execution_count": 13,
   "metadata": {},
   "outputs": [],
   "source": [
    "bags = laborecommender.data.get_bags_from_mimic()\n",
    "train_bags, test_bags = sklearn.model_selection.train_test_split(bags,random_state=11)\n",
    "test_bags_x, test_bags_y = laborecommender.data.make_supervised_dataset(test_bags)"
   ]
  },
  {
   "cell_type": "markdown",
   "metadata": {},
   "source": [
    "For hyperparameter optimization we make a grid search over a parameter grid."
   ]
  },
  {
   "cell_type": "code",
   "execution_count": 14,
   "metadata": {},
   "outputs": [],
   "source": [
    "param_grid = {\n",
    "    \"metric\":[\"jaccard\",\"minkowski\"],\n",
    "    \"k\":[15,20,40,50,80,100]}\n",
    "grid_search_results = laborecommender.validation.grid_search(\n",
    "    param_grid,\n",
    "    laborecommender.model.LaboRecommender(),\n",
    "    train_bags,\n",
    "    laborecommender.validation.mean_average_precision\n",
    ")"
   ]
  },
  {
   "cell_type": "markdown",
   "metadata": {},
   "source": [
    "These are the best hyperparameters and the best result extracted from the grid search."
   ]
  },
  {
   "cell_type": "code",
   "execution_count": 15,
   "metadata": {},
   "outputs": [
    {
     "data": {
      "text/plain": [
       "{'k': 50, 'metric': 'jaccard'}"
      ]
     },
     "execution_count": 15,
     "metadata": {},
     "output_type": "execute_result"
    }
   ],
   "source": [
    "grid_search_results[\"best_params\"]"
   ]
  },
  {
   "cell_type": "code",
   "execution_count": 16,
   "metadata": {},
   "outputs": [
    {
     "data": {
      "text/plain": [
       "0.9276482085389688"
      ]
     },
     "execution_count": 16,
     "metadata": {},
     "output_type": "execute_result"
    }
   ],
   "source": [
    "grid_search_results[\"best_mean_result\"]"
   ]
  },
  {
   "cell_type": "markdown",
   "metadata": {},
   "source": [
    "We train a model using the best hyperparameters and measure the performance over the test subset."
   ]
  },
  {
   "cell_type": "code",
   "execution_count": 17,
   "metadata": {},
   "outputs": [],
   "source": [
    "lr = laborecommender.model.LaboRecommender(**grid_search_results[\"best_params\"])\n",
    "lr.fit(train_bags)\n",
    "predicted = lr.predict(test_bags_x)\n",
    "laborecommender.validation.mean_average_precision(test_bags_y,predicted)"
   ]
  },
  {
   "cell_type": "code",
   "execution_count": 18,
   "metadata": {},
   "outputs": [
    {
     "data": {
      "text/plain": [
       "0.9361749166536438"
      ]
     },
     "execution_count": 18,
     "metadata": {},
     "output_type": "execute_result"
    }
   ],
   "source": []
  },
  {
   "cell_type": "code",
   "execution_count": null,
   "metadata": {},
   "outputs": [],
   "source": []
  }
 ],
 "metadata": {
  "kernelspec": {
   "display_name": "Python 3",
   "language": "python",
   "name": "python3"
  },
  "language_info": {
   "codemirror_mode": {
    "name": "ipython",
    "version": 3
   },
   "file_extension": ".py",
   "mimetype": "text/x-python",
   "name": "python",
   "nbconvert_exporter": "python",
   "pygments_lexer": "ipython3",
   "version": "3.7.6"
  }
 },
 "nbformat": 4,
 "nbformat_minor": 4
}
