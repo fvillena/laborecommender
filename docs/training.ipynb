{
 "cells": [
  {
   "cell_type": "markdown",
   "metadata": {},
   "source": [
    "# Training example"
   ]
  },
  {
   "cell_type": "markdown",
   "metadata": {},
   "source": [
    "First we import the data and model modules.\n",
    "\n",
    "The `laborecommender.data` module contains the toolset for data preparation and the `laborecommender.model` module contains the toolset for the modelling itself."
   ]
  },
  {
   "cell_type": "code",
   "execution_count": 1,
   "metadata": {},
   "outputs": [],
   "source": [
    "import laborecommender.data\n",
    "import laborecommender.model"
   ]
  },
  {
   "cell_type": "markdown",
   "metadata": {},
   "source": [
    "We prepare the dataset using the sample data extracted from MIMIC-III. The dataset must be a list of tuples (or lists), where each nested tuple is a bag of laboratory tests requested at the same time."
   ]
  },
  {
   "cell_type": "code",
   "execution_count": 2,
   "metadata": {},
   "outputs": [
    {
     "data": {
      "text/plain": [
       "('Potassium, Whole Blood',\n",
       " 'Chloride, Whole Blood',\n",
       " 'Oxygen Saturation',\n",
       " 'Sodium, Whole Blood',\n",
       " 'Lactate',\n",
       " 'Base Excess',\n",
       " 'pO2',\n",
       " 'Free Calcium',\n",
       " 'Calculated Total CO2',\n",
       " 'pCO2',\n",
       " 'Tidal Volume',\n",
       " 'pH')"
      ]
     },
     "execution_count": 2,
     "metadata": {},
     "output_type": "execute_result"
    }
   ],
   "source": [
    "bags = laborecommender.data.get_bags_from_mimic()\n",
    "bags[0]"
   ]
  },
  {
   "cell_type": "markdown",
   "metadata": {},
   "source": [
    "When the dataset is prepared we need to instantiate our `laborecommender.model.LaboRecommender` object for further training."
   ]
  },
  {
   "cell_type": "code",
   "execution_count": 3,
   "metadata": {},
   "outputs": [],
   "source": [
    "recommender = laborecommender.model.LaboRecommender()"
   ]
  },
  {
   "cell_type": "markdown",
   "metadata": {},
   "source": [
    "For training our model with the `bags` we need to call the `laborecommender.model.LaboRecommender.fit()` method."
   ]
  },
  {
   "cell_type": "code",
   "execution_count": 4,
   "metadata": {},
   "outputs": [
    {
     "data": {
      "text/plain": [
       "<laborecommender.model.LaboRecommender at 0x2e853bf9d08>"
      ]
     },
     "execution_count": 4,
     "metadata": {},
     "output_type": "execute_result"
    }
   ],
   "source": [
    "recommender.fit(bags)"
   ]
  },
  {
   "cell_type": "markdown",
   "metadata": {},
   "source": [
    "To test our model we can pass a list of laboratory tests to the method `laborecommender.model.LaboRecommender.predict()` and it will return a list of laboratory tests recommendations."
   ]
  },
  {
   "cell_type": "code",
   "execution_count": 5,
   "metadata": {},
   "outputs": [
    {
     "data": {
      "text/plain": [
       "[['Potassium',\n",
       "  'Potassium, Whole Blood',\n",
       "  'Creatine Kinase (CK)',\n",
       "  'Cholesterol, LDL, Calculated',\n",
       "  'Triglycerides']]"
      ]
     },
     "execution_count": 5,
     "metadata": {},
     "output_type": "execute_result"
    }
   ],
   "source": [
    "recommender.predict([\n",
    "    [\"Glucose\",\"Cholesterol, Total\",\"Cholesterol, HDL\"]\n",
    "])"
   ]
  }
 ],
 "metadata": {
  "kernelspec": {
   "display_name": "Python 3",
   "language": "python",
   "name": "python3"
  },
  "language_info": {
   "codemirror_mode": {
    "name": "ipython",
    "version": 3
   },
   "file_extension": ".py",
   "mimetype": "text/x-python",
   "name": "python",
   "nbconvert_exporter": "python",
   "pygments_lexer": "ipython3",
   "version": "3.7.6"
  }
 },
 "nbformat": 4,
 "nbformat_minor": 4
}
